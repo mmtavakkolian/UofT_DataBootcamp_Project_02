{
 "cells": [
  {
   "cell_type": "code",
   "execution_count": 53,
   "metadata": {},
   "outputs": [],
   "source": [
    "import pandas as pd\n",
    "import requests\n",
    "from bs4 import BeautifulSoup\n",
    "\n",
    "#read table from the website\n",
    "res = requests.get(\"https://photius.com/rankings/world2050_rank.html\")\n",
    "soup = BeautifulSoup(res.content,'lxml')\n",
    "table = soup.find_all('table')[0] \n",
    "df = pd.read_html(str(table))\n",
    "\n",
    "#get country names\n",
    "country_name = pd.Series(df[0][1])\n",
    "#get 2000 population\n",
    "population_2000 = pd.Series(df[0][3])\n",
    "#get 2015 population\n",
    "population_2015 = pd.Series(df[0][4])\n",
    "\n",
    "#join 3 series created above into the dataframe\n",
    "population_df = country_name.to_frame().join(population_2000).join(population_2015)\n",
    "\n",
    "#record dataframe to csv\n",
    "population_df.to_csv('Population.csv')\n"
   ]
  }
 ],
 "metadata": {
  "kernelspec": {
   "display_name": "Python 3",
   "language": "python",
   "name": "python3"
  },
  "language_info": {
   "codemirror_mode": {
    "name": "ipython",
    "version": 3
   },
   "file_extension": ".py",
   "mimetype": "text/x-python",
   "name": "python",
   "nbconvert_exporter": "python",
   "pygments_lexer": "ipython3",
   "version": "3.7.1"
  }
 },
 "nbformat": 4,
 "nbformat_minor": 2
}
